{
 "cells": [
  {
   "cell_type": "markdown",
   "id": "41c5a167-72af-470a-85c5-b69ec61f8e9d",
   "metadata": {
    "tags": []
   },
   "source": [
    "# 1. 환율 스크린샷"
   ]
  },
  {
   "cell_type": "markdown",
   "id": "06db070a-02f1-4e3f-a97d-c49a4ae44769",
   "metadata": {},
   "source": [
    "# 라이브러리 선언"
   ]
  },
  {
   "cell_type": "markdown",
   "id": "eba216ea-8432-4d51-9593-00a014121f92",
   "metadata": {},
   "source": [
    "#라이브러리 선언\n",
    "from selenium import webdriver\n",
    "\n",
    "from selenium.webdriver.common.keys import Keys   # 셀레니움 폴더안에다 web드라이버.py 라는거 넣은거래\n",
    "import warnings\n",
    "warnings.filterwarnings(action=\"ignore\")\n",
    "\n",
    "\n",
    "# 드라이버 위치 설정\n",
    "driver_loc = \"../externlib/chromedriver/chromedriver.exe\" #학교 크롬 버전 드라이버 위치\n",
    "\n",
    "\n",
    "# 드라이버 옵션 설정\n",
    "options = webdriver.ChromeOptions()\n",
    "options.add_argument(\"window-size=1920x1080\")\n",
    "\n",
    "\n",
    "# 헤드리스(for.리눅스)\n",
    "# 웹 드라이버 정의\n",
    "driver = webdriver.Chrome(driver_loc, options=options)"
   ]
  },
  {
   "cell_type": "markdown",
   "id": "d315201f-a9dd-441b-95fb-a34a53275c3c",
   "metadata": {},
   "source": [
    "### -- 페이지로 이동(네이버)"
   ]
  },
  {
   "cell_type": "markdown",
   "id": "6199d6f0-b129-47e0-82a7-3b5f48e91a25",
   "metadata": {},
   "source": [
    "## 네이버 페이지로 이동\n",
    "# URL 정의\n",
    "baseUrl = \"https://www.naver.com\"\n",
    "# URL 이동\n",
    "driver.get(baseUrl)"
   ]
  },
  {
   "cell_type": "markdown",
   "id": "ff4e8588-092d-4567-b5a2-418100b46e4d",
   "metadata": {},
   "source": [
    "### -- scrchBox에 값 입력 (\"환율\")"
   ]
  },
  {
   "cell_type": "markdown",
   "id": "5f94d5e1-250c-405e-9409-f9a636d98f0a",
   "metadata": {},
   "source": [
    "## 네이버 serchBox에 \"환율\"입력\n",
    "naverSerchBox = '//*[@id=\"query\"]'\n",
    "inputKey = \"환율\"\n",
    "driver.find_element_by_xpath(naverSerchBox).send_keys(inputKey)  #네이버 입력box \"환율\"입력\n",
    "driver.find_element_by_xpath(naverSerchBox).send_keys(Keys.ENTER) # 엔터"
   ]
  },
  {
   "cell_type": "markdown",
   "id": "71f7c41f-bcfc-4b10-8c12-4b2de4474df0",
   "metadata": {},
   "source": [
    "### -- 스크린샷 생성"
   ]
  },
  {
   "cell_type": "markdown",
   "id": "82a80a2a-9746-4434-9120-097062f3069e",
   "metadata": {
    "tags": []
   },
   "source": [
    "## 스크린샷 찍기\n",
    "driver.save_screenshot(\"./USD_{}.png\".format(timeLog))"
   ]
  },
  {
   "cell_type": "markdown",
   "id": "9e4b21b4-8d60-434a-952b-7a719b89ff79",
   "metadata": {},
   "source": [
    "---"
   ]
  },
  {
   "cell_type": "code",
   "execution_count": null,
   "id": "4c242b3e-975c-4824-baf5-e066b630454a",
   "metadata": {},
   "outputs": [],
   "source": []
  },
  {
   "cell_type": "markdown",
   "id": "ff5fa0a5-76e8-4744-98c5-63fe9100b50a",
   "metadata": {},
   "source": [
    "# [여기서부터가 진짜 시작]"
   ]
  },
  {
   "cell_type": "markdown",
   "id": "27f69e7d-a975-41a9-98a1-f58f9e1194b0",
   "metadata": {},
   "source": [
    "# *시가총액 50위 페이지이동- 스크린샷 생성(with 셀레니움)\n",
    "# *시가총액 50위 웹크롤링(테이블)(with bs4)- csv파일생성"
   ]
  },
  {
   "cell_type": "markdown",
   "id": "b08caf5f-68a1-40dc-b6e4-3ba7cc49af0b",
   "metadata": {},
   "source": [
    "### (timelog 생성)"
   ]
  },
  {
   "cell_type": "code",
   "execution_count": 12,
   "id": "5aabc7e4-65fb-483f-9718-62169985e90b",
   "metadata": {
    "tags": []
   },
   "outputs": [
    {
     "data": {
      "text/plain": [
       "'2022-04-09_18_00_45'"
      ]
     },
     "execution_count": 12,
     "metadata": {},
     "output_type": "execute_result"
    }
   ],
   "source": [
    "### 파일 저장시 붙일 timeLog 준비\n",
    "from datetime import *\n",
    "# currentTime = datetime.now().date()\n",
    "currentTime = datetime.now()\n",
    "nowTime = currentTime.strftime(\"%Y-%m-%d_%H_%M_%S\")\n",
    "\n",
    "timeLog = \"{}\".format(nowTime)\n",
    "timeLog"
   ]
  },
  {
   "cell_type": "markdown",
   "id": "3675639c-0b9d-4e87-b9f3-9cc53be9479a",
   "metadata": {
    "tags": []
   },
   "source": [
    "# 1.시가총액 - 스크린샷 생성"
   ]
  },
  {
   "cell_type": "code",
   "execution_count": 9,
   "id": "9bfc1526-22b8-409e-bdfa-eed4370300b5",
   "metadata": {
    "tags": []
   },
   "outputs": [],
   "source": [
    "### 1.라이브러리 선언\n",
    "from selenium import webdriver\n",
    "\n",
    "from selenium.webdriver.common.keys import Keys   # 셀레니움 폴더안에다 web드라이버.py 라는거 넣은거래\n",
    "import warnings\n",
    "warnings.filterwarnings(action=\"ignore\")\n",
    "\n",
    "\n",
    "# 드라이버 위치 설정\n",
    "driver_loc = \"../externlib/chromedriver_home_lowVersion/chromedriver.exe\" #집에서는 버전이 낮음. 학교에서할때는 고치기\n",
    "\n",
    "\n",
    "# 드라이버 옵션 설정\n",
    "options = webdriver.ChromeOptions()\n",
    "options.add_argument(\"--headless\")\n",
    "options.add_argument(\"--no-sandbox\")\n",
    "options.add_argument(\"--disable-dev-shm-usage\")\n",
    "# 헤드리스(for.리눅스)\n",
    "# 드라이버 정의\n",
    "driver = webdriver.Chrome(driver_loc, options=options)"
   ]
  },
  {
   "cell_type": "markdown",
   "id": "6aecf188-9a90-4a91-9fed-c5db0be67d98",
   "metadata": {},
   "source": [
    "### -- (참고)페이지로 이동"
   ]
  },
  {
   "cell_type": "markdown",
   "id": "ae3d2631-96b8-4e67-9560-44101ba19369",
   "metadata": {},
   "source": [
    "###2. 시가총액50위 페이지로 이동\n",
    "url = \"https://finance.naver.com/sise/sise_market_sum.nhn?sosok=0\"\n",
    "driver.get(url)"
   ]
  },
  {
   "cell_type": "markdown",
   "id": "c32dea35-f020-4836-85bd-066f4ef1479c",
   "metadata": {},
   "source": [
    "### -- 전체 스크린샷 생성(페이지 이동안해도 스크린샷 생성가능)"
   ]
  },
  {
   "cell_type": "code",
   "execution_count": 10,
   "id": "504d8ffb-1e8b-4984-9a9f-0c744909e16a",
   "metadata": {},
   "outputs": [
    {
     "data": {
      "text/plain": [
       "True"
      ]
     },
     "execution_count": 10,
     "metadata": {},
     "output_type": "execute_result"
    }
   ],
   "source": [
    "#스크린샷 생성(크롬전체)\n",
    "driver.get(\"https://finance.naver.com/sise/sise_market_sum.nhn?sosok=0\")\n",
    "width = driver.execute_script(\"return document.body.scrollWidth\") #스크롤 할 수 있는 최대 넓이\n",
    "height = driver.execute_script(\"return document.body.scrollHeight\") #스크롤 할 수 있는 최대 높이\n",
    "driver.set_window_size(width, height) #스크롤 할 수 있는 모든 부분을 지정\n",
    "\n",
    "# png파일로 저장\n",
    "driver.save_screenshot(\"../screenshot/stockRank50_{}.png\".format(timeLog))\n",
    "#[출처] [Python] selenium을 사용한 웹 사이트 스크린샷|작성자 Narrow"
   ]
  },
  {
   "cell_type": "markdown",
   "id": "25b5438d-6f53-40b7-8f78-50874eb585e0",
   "metadata": {},
   "source": [
    "#### (참고)전체 스크린샷\n",
    "https://blog.naver.com/PostView.nhn?blogId=ky_s1919&logNo=222187990565"
   ]
  },
  {
   "cell_type": "markdown",
   "id": "0e11377f-3908-489e-a40d-99a6c9a10b90",
   "metadata": {
    "tags": []
   },
   "source": [
    "## 스크롤 스크린샷\n",
    "import pyscreenshot as ImageGrab\n",
    "screenshot = ImageGrab.grab()\n",
    "screenshot.save(\"./stockRank50_{}.png\".format(timeLog)) ##실패 이건 전체화면 스크린샷이지. 웹페이지 스크롤이 아님"
   ]
  },
  {
   "cell_type": "markdown",
   "id": "70b4a5a7-e9c6-41f9-95e8-92a24aea9b56",
   "metadata": {},
   "source": [
    "---"
   ]
  },
  {
   "cell_type": "markdown",
   "id": "2a600e71-c78b-4f2f-a6f9-e022f72d3a27",
   "metadata": {},
   "source": [
    "# 2. 웹크롤링(테이블)- 시가총액 50위 정보 수집 - csv파일로저장 - 실행가능파일로만듬 - 윈도우스케쥴러 매일오후16시"
   ]
  },
  {
   "cell_type": "code",
   "execution_count": null,
   "id": "72ea9341-4779-4b22-b6fc-4edcdcca0f6f",
   "metadata": {},
   "outputs": [],
   "source": []
  },
  {
   "cell_type": "code",
   "execution_count": 11,
   "id": "12d789b5-6826-44ec-a0cb-8d6376e7c956",
   "metadata": {},
   "outputs": [
    {
     "name": "stdout",
     "output_type": "stream",
     "text": [
      "\n"
     ]
    }
   ],
   "source": [
    "# 1.라이브러리 선언\n",
    "import pandas as pd\n",
    "import requests\n",
    "import bs4\n",
    "\n",
    "#2. 소스 가져오기\n",
    "targetLink = \"https://finance.naver.com/sise/sise_market_sum.nhn?sosok=0\"\n",
    "resp = requests.get(targetLink)\n",
    "htmlNatural = resp.text\n",
    "bs = bs4.BeautifulSoup(htmlNatural, \"html.parser\")\n",
    "bs\n",
    "\n",
    "\n",
    "#3.테이블 정보 추출\n",
    "\n",
    "table = bs.find(name=\"table\", attrs={\"summary\":\"코스피 시세정보를 선택한 항목에 따라 정보를 제공합니다.\"})\n",
    "thList = table.findAll(name=\"th\")\n",
    "tbody = table.find(name=\"tbody\")\n",
    "trList = tbody.findAll(name=\"tr\")\n",
    "tdList=trList[1].findAll(name=\"td\")\n",
    "\n",
    "\n",
    "\n",
    "rowList=[]\n",
    "\n",
    "columnValue = \"\"\n",
    "columnList = []\n",
    "nameList = [] #<th>=컬럼명 담을 리스트\n",
    "\n",
    "for j in range (0, len(trList)):\n",
    "    columnList=[]\n",
    "    tdList=trList[j].findAll(name=\"td\")\n",
    "    for i in range (0, len(tdList),1):\n",
    "        columnValue = tdList[i].text.replace(\"\\t\",\"\").replace(\"\\n\",\"\")\n",
    "        columnList.append(columnValue)  \n",
    "    #print((columnList[0]))\n",
    "    if columnList[0]==\"\":  #[](실패:빈리스트아님)  ==None(실패:넌값아님.타입스트링)  ##No가 없다면, 그text는 종목명이 아니므로,컨티뉴하겠다. 즉, rowList에추가하지 않겠다.\n",
    "        continue\n",
    "    else :\n",
    "        rowList.append(columnList)\n",
    "        \n",
    "\n",
    "for i in range (0,len(thList),1):\n",
    "    thValue = thList[i].text\n",
    "    nameList.append(thValue)  #이중포문 돌릴거 아니니까, 초기화 안해됨-나중에 질문하기\n",
    "\n",
    "\n",
    "rowList\n",
    "print(rowList[0][-1])#맨끝 토론실에 링크 넣어보기\n",
    "finalDf  =pd.DataFrame(rowList, columns=nameList)\n",
    "\n",
    "# csv파일로 저장\n",
    "finalDf.to_csv(\"../dataset/stockRank50_{}.csv\".format(timeLog),index=True,encoding=\"ms949\")"
   ]
  },
  {
   "cell_type": "markdown",
   "id": "f99764b3-2674-4ed4-94ef-570023e2681f",
   "metadata": {},
   "source": [
    "---"
   ]
  },
  {
   "cell_type": "code",
   "execution_count": null,
   "id": "b518c4de-27c1-4f36-b7cb-5636127f1ef7",
   "metadata": {},
   "outputs": [],
   "source": []
  },
  {
   "cell_type": "code",
   "execution_count": null,
   "id": "7539cfaa-6c6a-4e7c-a2d7-5a062f615392",
   "metadata": {},
   "outputs": [],
   "source": []
  },
  {
   "cell_type": "markdown",
   "id": "cce2a3fb-dc34-4a79-a973-35d669c75e81",
   "metadata": {
    "tags": []
   },
   "source": [
    "1. 해외지수 스샷"
   ]
  },
  {
   "cell_type": "markdown",
   "id": "6d176d59-218a-4f90-9e7b-eb96e91dd138",
   "metadata": {},
   "source": [
    "## 네이버 serchBox에 \"해외증시\"입력\n",
    "\n",
    "naverSerchBox = '//*[@id=\"nx_query\"]'\n",
    "inputKey = \"해외증시\"\n",
    "driver.find_element_by_xpath(naverSerchBox).send_keys(inputKey)  #네이버 입력box \"환율\"입력\n",
    "driver.find_element_by_xpath(naverSerchBox).send_keys(Keys.ENTER) # 엔터"
   ]
  },
  {
   "cell_type": "markdown",
   "id": "ab42dfc0-2472-4bf0-a2c2-0a0b0681a318",
   "metadata": {},
   "source": [
    "naverButton ='//*[@id=\"rso\"]/div[1]/div/div/div/div/div/div[1]/a/h3'\n",
    "driver.find_element_by_xpath(naverButton).click() #구글네이버검색한차에서 -네이버클릭\n",
    "\n",
    "#네이버 웹페이지\n",
    "#네이버 검색창에 환율 입력\n",
    "inputKey = \"환율\"\n",
    "driver.find_element_by_xpath(naverSerch).send_keys(inputKey)"
   ]
  },
  {
   "cell_type": "markdown",
   "id": "aaecf3aa-b8c6-42ed-892a-a5a8443c0b1d",
   "metadata": {
    "tags": []
   },
   "source": [
    "# 방법2.구글검색키 입력 후 검색버튼 클릭"
   ]
  },
  {
   "cell_type": "markdown",
   "id": "6aa6af99-1649-4293-9c5b-d17599a269b0",
   "metadata": {},
   "source": [
    "#Keys.ENTER\n",
    "\n",
    "driver.get(baseUrl)\n",
    "driver.find_element_by_xpath(googleSerchInput).send_keys(inputKey)\n",
    "# driver.find_element_by_xpath(googleSerchInput).send_keys(Keys.ESCAPE) #밑에 자동완성 창 뜨는거  빠져나오는\n",
    "\n",
    "btnXpath = \"/html/body/div[1]/div[3]/form/div[1]/div[1]/div[3]/center/input[1]\"\n",
    "driver.find_element_by_xpath(btnXpath).click()"
   ]
  },
  {
   "cell_type": "markdown",
   "id": "7c57ceb5-362d-48a7-bc4d-5de0e3c3b033",
   "metadata": {},
   "source": [
    "/html/body/div[1]/div[3]/form/div[1]/div[1]/div[2]/div[2]/div[5]/center/input[1]"
   ]
  },
  {
   "cell_type": "markdown",
   "id": "70e817bd-0d57-48d9-9bc5-68c1ba889819",
   "metadata": {},
   "source": [
    "/html/body/div[1]/div[3]/form/div[1]/div[1]/div[3]/center/input[1]"
   ]
  }
 ],
 "metadata": {
  "kernelspec": {
   "display_name": "Python 3",
   "language": "python",
   "name": "python3"
  },
  "language_info": {
   "codemirror_mode": {
    "name": "ipython",
    "version": 3
   },
   "file_extension": ".py",
   "mimetype": "text/x-python",
   "name": "python",
   "nbconvert_exporter": "python",
   "pygments_lexer": "ipython3",
   "version": "3.8.8"
  }
 },
 "nbformat": 4,
 "nbformat_minor": 5
}
